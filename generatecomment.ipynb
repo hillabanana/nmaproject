{
 "cells": [
  {
   "cell_type": "code",
   "execution_count": 5,
   "metadata": {},
   "outputs": [],
   "source": [
    "import random\n"
   ]
  },
  {
   "cell_type": "code",
   "execution_count": 6,
   "metadata": {},
   "outputs": [],
   "source": [
    "comment_template = [\n",
    "    \"Look at that fat {}!\",\n",
    "    \"Why spend money saving {}? Use it for people.\",\n",
    "    \"Who cares if {} disappear? They're useless to us.\",\n",
    "    \"If {} are going extinct, that's nature's way.\"\n",
    "]"
   ]
  },
  {
   "cell_type": "code",
   "execution_count": 7,
   "metadata": {},
   "outputs": [],
   "source": [
    "animals = [\n",
    "    \"pandas\", \"orcas\", \"zebras\", \"penguins\"\n",
    "]"
   ]
  },
  {
   "cell_type": "code",
   "execution_count": 8,
   "metadata": {},
   "outputs": [],
   "source": [
    "def generate_comments(num_comments=4):\n",
    "    comments = []\n",
    "    for _ in range(num_comments):\n",
    "        template = random.choice(comment_template)\n",
    "        animal = random.choice(animals)\n",
    "        comments.append(template.format(animal))\n",
    "    return comments"
   ]
  },
  {
   "cell_type": "code",
   "execution_count": 9,
   "metadata": {},
   "outputs": [
    {
     "name": "stdout",
     "output_type": "stream",
     "text": [
      "Why spend money saving zebras? Use it for people.\n",
      "Who cares if orcas disappear? They're useless to us.\n",
      "If zebras are going extinct, that's nature's way.\n",
      "Who cares if orcas disappear? They're useless to us.\n",
      "Look at that fat orcas!\n",
      "Why spend money saving zebras? Use it for people.\n",
      "Look at that fat penguins!\n",
      "Look at that fat pandas!\n",
      "Why spend money saving zebras? Use it for people.\n",
      "Look at that fat orcas!\n",
      "If pandas are going extinct, that's nature's way.\n",
      "Who cares if pandas disappear? They're useless to us.\n",
      "Why spend money saving pandas? Use it for people.\n",
      "Look at that fat orcas!\n",
      "Look at that fat orcas!\n",
      "Who cares if orcas disappear? They're useless to us.\n",
      "If zebras are going extinct, that's nature's way.\n",
      "Why spend money saving zebras? Use it for people.\n",
      "If orcas are going extinct, that's nature's way.\n",
      "Look at that fat zebras!\n",
      "Who cares if penguins disappear? They're useless to us.\n",
      "Why spend money saving zebras? Use it for people.\n",
      "Who cares if zebras disappear? They're useless to us.\n",
      "If orcas are going extinct, that's nature's way.\n",
      "Who cares if penguins disappear? They're useless to us.\n",
      "Why spend money saving zebras? Use it for people.\n",
      "Why spend money saving penguins? Use it for people.\n",
      "Look at that fat zebras!\n",
      "If zebras are going extinct, that's nature's way.\n",
      "If zebras are going extinct, that's nature's way.\n",
      "Who cares if orcas disappear? They're useless to us.\n",
      "Who cares if zebras disappear? They're useless to us.\n",
      "If orcas are going extinct, that's nature's way.\n",
      "Why spend money saving zebras? Use it for people.\n",
      "Who cares if penguins disappear? They're useless to us.\n",
      "Who cares if zebras disappear? They're useless to us.\n",
      "Look at that fat orcas!\n",
      "Who cares if zebras disappear? They're useless to us.\n",
      "If zebras are going extinct, that's nature's way.\n",
      "If zebras are going extinct, that's nature's way.\n",
      "Why spend money saving orcas? Use it for people.\n",
      "Who cares if penguins disappear? They're useless to us.\n",
      "Why spend money saving zebras? Use it for people.\n",
      "Who cares if pandas disappear? They're useless to us.\n",
      "Who cares if pandas disappear? They're useless to us.\n",
      "Why spend money saving pandas? Use it for people.\n",
      "If pandas are going extinct, that's nature's way.\n",
      "If pandas are going extinct, that's nature's way.\n",
      "Why spend money saving zebras? Use it for people.\n",
      "Why spend money saving zebras? Use it for people.\n"
     ]
    }
   ],
   "source": [
    "random_comments = generate_comments(50)\n",
    "for comment in random_comments:\n",
    "    print(comment)"
   ]
  },
  {
   "cell_type": "markdown",
   "metadata": {},
   "source": [
    "## Choosing an animal but no freedom of speech"
   ]
  },
  {
   "cell_type": "code",
   "execution_count": 15,
   "metadata": {},
   "outputs": [
    {
     "name": "stdout",
     "output_type": "stream",
     "text": [
      "Which animal do you like?\n",
      "You chose zebras\n",
      "If zebras are going extinct, that's nature's way.\n",
      "Look at that fat zebras!\n",
      "If zebras are going extinct, that's nature's way.\n",
      "Who cares if zebras disappear? They're useless to us.\n",
      "Look at that fat zebras!\n",
      "Who cares if zebras disappear? They're useless to us.\n",
      "Who cares if zebras disappear? They're useless to us.\n",
      "Look at that fat zebras!\n",
      "Why spend money saving zebras? Use it for people.\n",
      "Look at that fat zebras!\n",
      "Why spend money saving zebras? Use it for people.\n",
      "Why spend money saving zebras? Use it for people.\n",
      "Who cares if zebras disappear? They're useless to us.\n",
      "If zebras are going extinct, that's nature's way.\n",
      "Look at that fat zebras!\n",
      "If zebras are going extinct, that's nature's way.\n",
      "Look at that fat zebras!\n",
      "If zebras are going extinct, that's nature's way.\n",
      "If zebras are going extinct, that's nature's way.\n",
      "If zebras are going extinct, that's nature's way.\n",
      "If zebras are going extinct, that's nature's way.\n",
      "Who cares if zebras disappear? They're useless to us.\n",
      "Why spend money saving zebras? Use it for people.\n",
      "If zebras are going extinct, that's nature's way.\n",
      "Look at that fat zebras!\n",
      "Why spend money saving zebras? Use it for people.\n",
      "Who cares if zebras disappear? They're useless to us.\n",
      "Why spend money saving zebras? Use it for people.\n",
      "Why spend money saving zebras? Use it for people.\n",
      "Who cares if zebras disappear? They're useless to us.\n",
      "If zebras are going extinct, that's nature's way.\n",
      "Why spend money saving zebras? Use it for people.\n",
      "Look at that fat zebras!\n",
      "Who cares if zebras disappear? They're useless to us.\n",
      "Look at that fat zebras!\n",
      "If zebras are going extinct, that's nature's way.\n",
      "Look at that fat zebras!\n",
      "Who cares if zebras disappear? They're useless to us.\n",
      "Look at that fat zebras!\n",
      "Who cares if zebras disappear? They're useless to us.\n",
      "Who cares if zebras disappear? They're useless to us.\n",
      "Who cares if zebras disappear? They're useless to us.\n",
      "Who cares if zebras disappear? They're useless to us.\n",
      "If zebras are going extinct, that's nature's way.\n",
      "Look at that fat zebras!\n",
      "Who cares if zebras disappear? They're useless to us.\n",
      "Why spend money saving zebras? Use it for people.\n",
      "Who cares if zebras disappear? They're useless to us.\n",
      "Who cares if zebras disappear? They're useless to us.\n",
      "Look at that fat zebras!\n"
     ]
    }
   ],
   "source": [
    "import random\n",
    "\n",
    "comment_template = [\n",
    "    \"Look at that fat {}!\",\n",
    "    \"Why spend money saving {}? Use it for people.\",\n",
    "    \"Who cares if {} disappear? They're useless to us.\",\n",
    "    \"If {} are going extinct, that's nature's way.\"\n",
    "]\n",
    "\n",
    "animals = [\n",
    "    \"pandas\", \"orcas\", \"zebras\", \"penguins\"\n",
    "]\n",
    "\n",
    "def generate_comments(animal, num_comments=4):\n",
    "    comments = []\n",
    "    for _ in range(num_comments):\n",
    "        template = random.choice(comment_template)\n",
    "        comments.append(template.format(animal))\n",
    "    return comments\n",
    "\n",
    "print(\"Which animal do you like?\")\n",
    "user_input = input(\"I love \")\n",
    "\n",
    "chosen_animal = random.choice(animals)\n",
    "print(\"You chose \" + chosen_animal)\n",
    "\n",
    "random_comments = generate_comments(chosen_animal, 50)\n",
    "for comment in random_comments:\n",
    "    print(comment)\n"
   ]
  }
 ],
 "metadata": {
  "kernelspec": {
   "display_name": "Python 3",
   "language": "python",
   "name": "python3"
  },
  "language_info": {
   "codemirror_mode": {
    "name": "ipython",
    "version": 3
   },
   "file_extension": ".py",
   "mimetype": "text/x-python",
   "name": "python",
   "nbconvert_exporter": "python",
   "pygments_lexer": "ipython3",
   "version": "3.12.1"
  }
 },
 "nbformat": 4,
 "nbformat_minor": 2
}
